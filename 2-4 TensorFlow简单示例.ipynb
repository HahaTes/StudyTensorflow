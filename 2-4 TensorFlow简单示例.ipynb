{
 "cells": [
  {
   "cell_type": "code",
   "execution_count": 1,
   "metadata": {},
   "outputs": [],
   "source": [
    "import tensorflow as tf\n",
    "import numpy as np"
   ]
  },
  {
   "cell_type": "code",
   "execution_count": 6,
   "metadata": {},
   "outputs": [
    {
     "name": "stdout",
     "output_type": "stream",
     "text": [
      "0 [1.0259804, 2.152248]\n",
      "20 [1.0849935, 2.2071347]\n",
      "40 [1.0946194, 2.2025583]\n",
      "60 [1.0980706, 2.2009172]\n",
      "80 [1.0993083, 2.2003288]\n",
      "100 [1.0997518, 2.200118]\n",
      "120 [1.099911, 2.2000422]\n",
      "140 [1.0999681, 2.200015]\n",
      "160 [1.0999886, 2.2000055]\n",
      "180 [1.099996, 2.200002]\n",
      "200 [1.0999986, 2.2000008]\n",
      "220 [1.0999986, 2.2000008]\n",
      "240 [1.0999986, 2.2000008]\n",
      "260 [1.0999986, 2.2000008]\n",
      "280 [1.0999986, 2.2000008]\n",
      "300 [1.0999986, 2.2000008]\n",
      "320 [1.0999986, 2.2000008]\n",
      "340 [1.0999986, 2.2000008]\n",
      "360 [1.0999986, 2.2000008]\n",
      "380 [1.0999986, 2.2000008]\n",
      "400 [1.0999986, 2.2000008]\n",
      "420 [1.0999986, 2.2000008]\n",
      "440 [1.0999986, 2.2000008]\n",
      "460 [1.0999986, 2.2000008]\n",
      "480 [1.0999986, 2.2000008]\n",
      "500 [1.0999986, 2.2000008]\n"
     ]
    }
   ],
   "source": [
    "x_data = np.random.rand(100)\n",
    "y_data = x_data*1.1 + 2.2\n",
    "\n",
    "# 构建模型\n",
    "k = tf.Variable(0.)\n",
    "b = tf.Variable(0.)\n",
    "y = k*x_data + b\n",
    "\n",
    "# 二次代价函数\n",
    "loss = tf.reduce_mean(tf.square(y_data-y))\n",
    "\n",
    "# 定义一个梯度下降法来训练的优化器\n",
    "optimizer = tf.train.GradientDescentOptimizer(0.4)\n",
    "\n",
    "init = tf.global_variables_initializer()\n",
    "\n",
    "# 最小化代价函数\n",
    "train = optimizer.minimize(loss)\n",
    "\n",
    "with tf.Session() as sess:\n",
    "    sess.run(init)\n",
    "    for step in range(501):\n",
    "        sess.run(train)\n",
    "        if step%20 == 0:\n",
    "            print(step,sess.run([k,b]))"
   ]
  },
  {
   "cell_type": "code",
   "execution_count": null,
   "metadata": {},
   "outputs": [],
   "source": []
  }
 ],
 "metadata": {
  "kernelspec": {
   "display_name": "Python 3",
   "language": "python",
   "name": "python3"
  },
  "language_info": {
   "codemirror_mode": {
    "name": "ipython",
    "version": 3
   },
   "file_extension": ".py",
   "mimetype": "text/x-python",
   "name": "python",
   "nbconvert_exporter": "python",
   "pygments_lexer": "ipython3",
   "version": "3.5.4"
  }
 },
 "nbformat": 4,
 "nbformat_minor": 2
}
