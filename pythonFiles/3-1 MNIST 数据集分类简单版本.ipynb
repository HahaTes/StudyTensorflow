{
 "cells": [
  {
   "cell_type": "code",
   "execution_count": 1,
   "metadata": {},
   "outputs": [],
   "source": [
    "import tensorflow as tf\n",
    "from tensorflow.examples.tutorials.mnist import input_data"
   ]
  },
  {
   "cell_type": "code",
   "execution_count": 20,
   "metadata": {
    "scrolled": false
   },
   "outputs": [
    {
     "name": "stdout",
     "output_type": "stream",
     "text": [
      "Extracting mnist\\train-images-idx3-ubyte.gz\n",
      "Extracting mnist\\train-labels-idx1-ubyte.gz\n",
      "Extracting mnist\\t10k-images-idx3-ubyte.gz\n",
      "Extracting mnist\\t10k-labels-idx1-ubyte.gz\n",
      "0: accuracy is 0.8706\n",
      "2: accuracy is 0.9045\n",
      "4: accuracy is 0.9104\n",
      "6: accuracy is 0.9137\n",
      "8: accuracy is 0.9185\n",
      "10: accuracy is 0.9193\n",
      "12: accuracy is 0.9206\n",
      "14: accuracy is 0.9215\n",
      "16: accuracy is 0.9217\n",
      "18: accuracy is 0.9219\n",
      "20: accuracy is 0.923\n",
      "22: accuracy is 0.9242\n",
      "24: accuracy is 0.9242\n",
      "26: accuracy is 0.9244\n",
      "28: accuracy is 0.9248\n",
      "30: accuracy is 0.9254\n",
      "32: accuracy is 0.925\n",
      "34: accuracy is 0.9255\n",
      "36: accuracy is 0.9271\n",
      "38: accuracy is 0.9273\n",
      "40: accuracy is 0.9262\n",
      "42: accuracy is 0.9275\n",
      "44: accuracy is 0.9274\n",
      "46: accuracy is 0.9276\n",
      "48: accuracy is 0.9279\n",
      "50: accuracy is 0.9266\n"
     ]
    }
   ],
   "source": [
    "# 输入数据集\n",
    "mnist = input_data.read_data_sets('mnist',one_hot = True)\n",
    "\n",
    "# 批次大小\n",
    "batch_size = 100\n",
    "# 一个周期包含批次个数\n",
    "n_batch = mnist.train.num_examples // batch_size\n",
    "\n",
    "# 创建placeholder\n",
    "x = tf.placeholder(tf.float32,[None,784])\n",
    "y = tf.placeholder(tf.float32,[None,10])\n",
    "\n",
    "# 创建简单神经网络\n",
    "W = tf.Variable(tf.zeros([784,10]))\n",
    "b = tf.Variable(tf.zeros([1,10]))\n",
    "\n",
    "wx_plus_b = tf.matmul(x,W) + b\n",
    "\n",
    "# softmax激活函数\n",
    "prediction  = tf.nn.softmax(wx_plus_b)\n",
    "\n",
    "\n",
    "# 二次代价函数\n",
    "# loss = tf.reduce_mean(tf.square(y-prediction))\n",
    "\n",
    "# 交叉熵代价函数\n",
    "loss = tf.reduce_mean(tf.nn.softmax_cross_entropy_with_logits(labels=y,logits=prediction))\n",
    "\n",
    "\n",
    "train_step = tf.train.GradientDescentOptimizer(0.3).minimize(loss)\n",
    "\n",
    "# 结果存放在布尔类型的列表中\n",
    "correct_prediction = tf.equal(tf.argmax(y,1),tf.argmax(prediction,1))\n",
    "# 计算准确率\n",
    "accuracy = tf.reduce_mean(tf.cast(correct_prediction,tf.float32))\n",
    "\n",
    "with tf.Session() as sess:\n",
    "    # 初始化变量\n",
    "    sess.run(tf.global_variables_initializer())\n",
    "    for epoch in range(51):\n",
    "        for _ in range(n_batch):\n",
    "            batch_xs,batch_ys = mnist.train.next_batch(batch_size)\n",
    "            sess.run(train_step,feed_dict = {x:batch_xs,y:batch_ys})\n",
    "        if epoch%2 == 0:\n",
    "            \n",
    "            acc = sess.run(accuracy,feed_dict={x:mnist.test.images,y:mnist.test.labels})\n",
    "            print(str(epoch) + \": accuracy is \" + str(acc))"
   ]
  },
  {
   "cell_type": "code",
   "execution_count": null,
   "metadata": {},
   "outputs": [],
   "source": []
  }
 ],
 "metadata": {
  "kernelspec": {
   "display_name": "Python 3",
   "language": "python",
   "name": "python3"
  },
  "language_info": {
   "codemirror_mode": {
    "name": "ipython",
    "version": 3
   },
   "file_extension": ".py",
   "mimetype": "text/x-python",
   "name": "python",
   "nbconvert_exporter": "python",
   "pygments_lexer": "ipython3",
   "version": "3.5.4"
  }
 },
 "nbformat": 4,
 "nbformat_minor": 2
}
