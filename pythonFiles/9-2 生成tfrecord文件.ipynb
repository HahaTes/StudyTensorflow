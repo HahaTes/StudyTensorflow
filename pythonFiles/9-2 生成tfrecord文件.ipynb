{
 "cells": [
  {
   "cell_type": "code",
   "execution_count": 2,
   "metadata": {},
   "outputs": [
    {
     "name": "stderr",
     "output_type": "stream",
     "text": [
      "D:\\ProgramData\\Anaconda3\\lib\\site-packages\\h5py\\__init__.py:36: FutureWarning: Conversion of the second argument of issubdtype from `float` to `np.floating` is deprecated. In future, it will be treated as `np.float64 == np.dtype(float).type`.\n",
      "  from ._conv import register_converters as _register_converters\n"
     ]
    }
   ],
   "source": [
    "import tensorflow as tf\n",
    "import os, random, math, sys\n",
    "import numpy as np\n",
    "from PIL import Image"
   ]
  },
  {
   "cell_type": "code",
   "execution_count": 3,
   "metadata": {},
   "outputs": [
    {
     "name": "stdout",
     "output_type": "stream",
     "text": [
      ">> Converting image 535/535\n",
      ">> Converting image 500/500\n",
      "生成tfrecord文件\n"
     ]
    }
   ],
   "source": [
    "# 验证集数量\n",
    "_NUM_TEST = 500\n",
    "\n",
    "# 随机种子\n",
    "_RANDOM_SEED = 0\n",
    "\n",
    "# 数据集路径\n",
    "DATASET_DIR = \"E:/Python/tensorflow/captcha/image/\"\n",
    "\n",
    "# tfrecord路径\n",
    "TFRECORD_DIR = \"E:/Python/tensorflow/captcha/\"\n",
    "\n",
    "# 判断tf文件是否存在\n",
    "def _dataset_exists(dataSet_dir):\n",
    "    for split_name in ['train','test']:\n",
    "        output_filename = os.path.join(dataSet_dir,split_name + '.tfrecords')\n",
    "        if not tf.gfile.Exists(output_filename):\n",
    "            return False\n",
    "    return True\n",
    "\n",
    "# 获取所有验证码图片\n",
    "def _get_filenames_and_classes(dataSet_dir):\n",
    "    photo_filenames = []\n",
    "    for filename in os.listdir(dataSet_dir):\n",
    "        path = os.path.join(dataSet_dir,filename)\n",
    "        photo_filenames.append(path)\n",
    "    return photo_filenames\n",
    "    \n",
    "def int64_feature(values):\n",
    "    if not isinstance(values,(tuple,list)):\n",
    "        values = [values]\n",
    "        return tf.train.Feature(int64_list=tf.train.Int64List(value=values))\n",
    "    \n",
    "def bytes_feature(values):\n",
    "    return tf.train.Feature(bytes_list=tf.train.BytesList(value=[values]))\n",
    "\n",
    "def image_to_tfexample(image_data,label0,label1,label2,label3):\n",
    "    return tf.train.Example(features=tf.train.Features(feature={\n",
    "        'image':bytes_feature(image_data),\n",
    "        'label0':int64_feature(label0),\n",
    "        'label1':int64_feature(label1),\n",
    "        'label2':int64_feature(label2),\n",
    "        'label3':int64_feature(label3),\n",
    "    }))\n",
    "        \n",
    "# 把数据转换为tfrecord格式\n",
    "def _convert_dataset(split_name,filenames,dataSet_dir):\n",
    "    assert split_name in ['train','test']\n",
    "    \n",
    "    with tf.Session() as sess:\n",
    "        output_filename = os.path.join(TFRECORD_DIR,split_name+'.tfrecords')\n",
    "        with tf.python_io.TFRecordWriter(output_filename) as tfrecord_writers:\n",
    "            for i,filename in enumerate(filenames):\n",
    "                try:\n",
    "                    sys.stdout.write('\\r>> Converting image %d/%d' % (i+1,len(filenames)))\n",
    "                    sys.stdout.flush()\n",
    "                    \n",
    "                    # 读取图片\n",
    "                    image_data = Image.open(filename)\n",
    "                    # 根据模型结构resize\n",
    "                    image_data = image_data.resize((224,224))\n",
    "                    # 灰度化\n",
    "                    image_data = np.array(image_data.convert('L'))\n",
    "                    # 图片转为bytes\n",
    "                    image_data = image_data.tobytes()\n",
    "                    \n",
    "                    # 获取label\n",
    "                    labels = filename.split('/')[-1][0:4]\n",
    "                    num_labels = []\n",
    "                    for j in range(4):\n",
    "                        num_labels.append(int(labels[j]))\n",
    "                        \n",
    "                    # 生成protocol数据类型\n",
    "                    example = image_to_tfexample(image_data,num_labels[0],num_labels[1],num_labels[2],num_labels[3])\n",
    "                    tfrecord_writers.write(example.SerializeToString())\n",
    "                    \n",
    "                except IOError as e:\n",
    "                    print('Could not read:',filename)\n",
    "                    print('Error:',e)\n",
    "                    print('Skip it \\n')\n",
    "    sys.stdout.write('\\n')\n",
    "    sys.stdout.flush()\n",
    "    \n",
    "# 判断tfrecord是否存在\n",
    "if _dataset_exists(TFRECORD_DIR):\n",
    "    print('tfrecord文件已存在')\n",
    "    \n",
    "else:\n",
    "#     获取所有图片\n",
    "    photo_filenames = _get_filenames_and_classes(DATASET_DIR)\n",
    "    photo_filenames\n",
    "    random.seed(_RANDOM_SEED)\n",
    "    random.shuffle(photo_filenames)\n",
    "    train_filenames = photo_filenames[_NUM_TEST:]\n",
    "    testing_filenames = photo_filenames[:_NUM_TEST]\n",
    "    \n",
    "    _convert_dataset('train',train_filenames,DATASET_DIR)\n",
    "    _convert_dataset('test',testing_filenames,DATASET_DIR)\n",
    "    print('生成tfrecord文件')\n",
    "                    \n",
    "        "
   ]
  },
  {
   "cell_type": "code",
   "execution_count": null,
   "metadata": {},
   "outputs": [],
   "source": []
  }
 ],
 "metadata": {
  "kernelspec": {
   "display_name": "Python 3",
   "language": "python",
   "name": "python3"
  },
  "language_info": {
   "codemirror_mode": {
    "name": "ipython",
    "version": 3
   },
   "file_extension": ".py",
   "mimetype": "text/x-python",
   "name": "python",
   "nbconvert_exporter": "python",
   "pygments_lexer": "ipython3",
   "version": "3.6.4"
  }
 },
 "nbformat": 4,
 "nbformat_minor": 2
}
