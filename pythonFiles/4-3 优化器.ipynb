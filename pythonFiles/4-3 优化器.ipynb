{
 "cells": [
  {
   "cell_type": "code",
   "execution_count": 1,
   "metadata": {},
   "outputs": [],
   "source": [
    "import tensorflow as tf\n",
    "from tensorflow.examples.tutorials.mnist import input_data"
   ]
  },
  {
   "cell_type": "code",
   "execution_count": 2,
   "metadata": {},
   "outputs": [
    {
     "name": "stdout",
     "output_type": "stream",
     "text": [
      "Extracting mnist\\train-images-idx3-ubyte.gz\n",
      "Extracting mnist\\train-labels-idx1-ubyte.gz\n",
      "Extracting mnist\\t10k-images-idx3-ubyte.gz\n",
      "Extracting mnist\\t10k-labels-idx1-ubyte.gz\n",
      "WARNING:tensorflow:From <ipython-input-2-0c61f809f4d9>:27: softmax_cross_entropy_with_logits (from tensorflow.python.ops.nn_ops) is deprecated and will be removed in a future version.\n",
      "Instructions for updating:\n",
      "\n",
      "Future major versions of TensorFlow will allow gradients to flow\n",
      "into the labels input on backprop by default.\n",
      "\n",
      "See tf.nn.softmax_cross_entropy_with_logits_v2.\n",
      "\n",
      "0: accuracy is 0.8386\n",
      "2: accuracy is 0.9245\n",
      "4: accuracy is 0.9262\n",
      "6: accuracy is 0.9325\n",
      "8: accuracy is 0.9288\n",
      "10: accuracy is 0.931\n",
      "12: accuracy is 0.9309\n",
      "14: accuracy is 0.9296\n",
      "16: accuracy is 0.9305\n",
      "18: accuracy is 0.9299\n",
      "20: accuracy is 0.9309\n",
      "22: accuracy is 0.932\n",
      "24: accuracy is 0.9315\n",
      "26: accuracy is 0.9315\n",
      "28: accuracy is 0.9292\n",
      "30: accuracy is 0.9307\n",
      "32: accuracy is 0.9313\n",
      "34: accuracy is 0.9311\n",
      "36: accuracy is 0.9315\n",
      "38: accuracy is 0.9322\n",
      "40: accuracy is 0.9308\n",
      "42: accuracy is 0.9303\n",
      "44: accuracy is 0.9317\n",
      "46: accuracy is 0.9306\n",
      "48: accuracy is 0.9306\n",
      "50: accuracy is 0.9305\n"
     ]
    }
   ],
   "source": [
    "# 输入数据集\n",
    "mnist = input_data.read_data_sets('mnist',one_hot = True)\n",
    "\n",
    "# 批次大小\n",
    "batch_size = 100\n",
    "# 一个周期包含批次个数\n",
    "n_batch = mnist.train.num_examples // batch_size\n",
    "\n",
    "# 创建placeholder\n",
    "x = tf.placeholder(tf.float32,[None,784])\n",
    "y = tf.placeholder(tf.float32,[None,10])\n",
    "\n",
    "# 创建简单神经网络\n",
    "W = tf.Variable(tf.zeros([784,10]))\n",
    "b = tf.Variable(tf.zeros([1,10]))\n",
    "\n",
    "wx_plus_b = tf.matmul(x,W) + b\n",
    "\n",
    "# softmax激活函数\n",
    "prediction  = tf.nn.softmax(wx_plus_b)\n",
    "\n",
    "\n",
    "# 二次代价函数\n",
    "# loss = tf.reduce_mean(tf.square(y-prediction))\n",
    "\n",
    "# 交叉熵代价函数\n",
    "loss = tf.reduce_mean(tf.nn.softmax_cross_entropy_with_logits(labels=y,logits=prediction))\n",
    "\n",
    "# 梯度下降法\n",
    "train_step = tf.train.GradientDescentOptimizer(0.3).minimize(loss)\n",
    "\n",
    "train_step = tf.train.AdamOptimizer(0.01).minimize(loss)\n",
    "\n",
    "# 结果存放在布尔类型的列表中\n",
    "correct_prediction = tf.equal(tf.argmax(y,1),tf.argmax(prediction,1))\n",
    "# 计算准确率\n",
    "accuracy = tf.reduce_mean(tf.cast(correct_prediction,tf.float32))\n",
    "\n",
    "with tf.Session() as sess:\n",
    "    # 初始化变量\n",
    "    sess.run(tf.global_variables_initializer())\n",
    "    for epoch in range(21):\n",
    "        for _ in range(n_batch):\n",
    "            batch_xs,batch_ys = mnist.train.next_batch(batch_size)\n",
    "            sess.run(train_step,feed_dict = {x:batch_xs,y:batch_ys})\n",
    "        if epoch%2 == 0:\n",
    "            \n",
    "            acc = sess.run(accuracy,feed_dict={x:mnist.test.images,y:mnist.test.labels})\n",
    "            print(str(epoch) + \": accuracy is \" + str(acc))"
   ]
  },
  {
   "cell_type": "code",
   "execution_count": null,
   "metadata": {},
   "outputs": [],
   "source": []
  }
 ],
 "metadata": {
  "kernelspec": {
   "display_name": "Python 3",
   "language": "python",
   "name": "python3"
  },
  "language_info": {
   "codemirror_mode": {
    "name": "ipython",
    "version": 3
   },
   "file_extension": ".py",
   "mimetype": "text/x-python",
   "name": "python",
   "nbconvert_exporter": "python",
   "pygments_lexer": "ipython3",
   "version": "3.5.4"
  }
 },
 "nbformat": 4,
 "nbformat_minor": 2
}
