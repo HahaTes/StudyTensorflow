{
 "cells": [
  {
   "cell_type": "code",
   "execution_count": 7,
   "metadata": {},
   "outputs": [],
   "source": [
    "from captcha.image import ImageCaptcha\n",
    "import numpy as np\n",
    "from PIL import Image\n",
    "import sys \n",
    "import random"
   ]
  },
  {
   "cell_type": "code",
   "execution_count": 14,
   "metadata": {},
   "outputs": [
    {
     "name": "stdout",
     "output_type": "stream",
     "text": [
      ">> Creating image 100/100\n",
      "已生成100 张图片\n"
     ]
    }
   ],
   "source": [
    "# number = [str(i) for i in range(10)]\n",
    "# number = [chr(i) for i in range(48,58)]\n",
    "number = ['0', '1', '2', '3', '4', '5', '6', '7', '8', '9']\n",
    "\n",
    "# alphabet = [chr(i) for i in range(97,123)]\n",
    "alphabet = ['a', 'b', 'c', 'd', 'e', 'f', 'g', 'h', 'i', 'j', 'k', 'l', 'm', 'n', 'o', 'p', 'q', 'r', 's', 't', 'u', 'v', 'w', 'x', 'y', 'z']\n",
    "\n",
    "# ALPHABET = [chr(i) for i in range(97,123)]\n",
    "ALPHABET = ['A', 'B', 'C', 'D', 'E', 'F', 'G', 'H', 'I', 'J', 'K', 'L', 'M', 'N', 'O', 'P', 'Q', 'R', 'S', 'T', 'U', 'V', 'W', 'X', 'Y', 'Z']\n",
    "\n",
    "#常见3600+汉字,但是验证码库不支持汉字\n",
    "chi_chars = []\n",
    "for head in range(0xb0, 0xd7):\n",
    "    for body in range(0xa1, 0xfe):\n",
    "        c = bytes.fromhex(f'{head:x}{body:x}').decode('gb2312')\n",
    "        chi_chars.append(c)\n",
    "\n",
    "\n",
    "\n",
    "def random_captcha_text(char_set=number,captcha_size=4):\n",
    "    captcha_text = []\n",
    "    for i in range(captcha_size):\n",
    "#         随机选择\n",
    "        c = random.choice(char_set)\n",
    "        captcha_text.append(c)\n",
    "    return captcha_text\n",
    "\n",
    "# 生成字符对应的验证码\n",
    "def gen_captcha_text_and_image(char_set):\n",
    "#     可以自定义长宽以及字体\n",
    "    image = ImageCaptcha()\n",
    "#     生成验证码，可以选择生成库\n",
    "    captcha_text = random_captcha_text(char_set=char_set)\n",
    "#     组合\n",
    "    captcha_text = ''.join(captcha_text)\n",
    "#     captcha = image.generate(captcha_text)\n",
    "#     写入文件\n",
    "    image.write(captcha_text,'captcha/image/' + captcha_text + '.jpg')\n",
    "    \n",
    "num = 100\n",
    "char_set = number + alphabet + ALPHABET \n",
    "if __name__ == '__main__':\n",
    "    for i in range(num):\n",
    "        gen_captcha_text_and_image(char_set)\n",
    "        sys.stdout.write('\\r>> Creating image %d/%d' % (i+1,num))\n",
    "        sys.stdout.flush()\n",
    "    sys.stdout.write('\\n')\n",
    "    sys.stdout.flush()\n",
    "    print(\"已生成%d 张图片\" % num)\n",
    "    \n",
    "    \n",
    "\n"
   ]
  },
  {
   "cell_type": "code",
   "execution_count": null,
   "metadata": {},
   "outputs": [],
   "source": []
  }
 ],
 "metadata": {
  "kernelspec": {
   "display_name": "Python 3",
   "language": "python",
   "name": "python3"
  },
  "language_info": {
   "codemirror_mode": {
    "name": "ipython",
    "version": 3
   },
   "file_extension": ".py",
   "mimetype": "text/x-python",
   "name": "python",
   "nbconvert_exporter": "python",
   "pygments_lexer": "ipython3",
   "version": "3.6.4"
  }
 },
 "nbformat": 4,
 "nbformat_minor": 2
}
